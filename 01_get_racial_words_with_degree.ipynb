{
 "cells": [
  {
   "cell_type": "markdown",
   "metadata": {},
   "source": [
    "# Get some of the profanity words of different degree(here we choose 3) and save in one csv file with its degree "
   ]
  },
  {
   "cell_type": "code",
   "execution_count": 1,
   "metadata": {},
   "outputs": [],
   "source": [
    "# import required module\n",
    "import pandas as pd"
   ]
  },
  {
   "cell_type": "code",
   "execution_count": 2,
   "metadata": {},
   "outputs": [
    {
     "data": {
      "text/html": [
       "<div>\n",
       "<style scoped>\n",
       "    .dataframe tbody tr th:only-of-type {\n",
       "        vertical-align: middle;\n",
       "    }\n",
       "\n",
       "    .dataframe tbody tr th {\n",
       "        vertical-align: top;\n",
       "    }\n",
       "\n",
       "    .dataframe thead th {\n",
       "        text-align: right;\n",
       "    }\n",
       "</style>\n",
       "<table border=\"1\" class=\"dataframe\">\n",
       "  <thead>\n",
       "    <tr style=\"text-align: right;\">\n",
       "      <th></th>\n",
       "      <th>text</th>\n",
       "      <th>canonical_form_1</th>\n",
       "      <th>canonical_form_2</th>\n",
       "      <th>canonical_form_3</th>\n",
       "      <th>category_1</th>\n",
       "      <th>category_2</th>\n",
       "      <th>category_3</th>\n",
       "      <th>severity_rating</th>\n",
       "      <th>severity_description</th>\n",
       "    </tr>\n",
       "  </thead>\n",
       "  <tbody>\n",
       "    <tr>\n",
       "      <th>0</th>\n",
       "      <td>69</td>\n",
       "      <td>69</td>\n",
       "      <td>NaN</td>\n",
       "      <td>NaN</td>\n",
       "      <td>sexual anatomy / sexual acts</td>\n",
       "      <td>NaN</td>\n",
       "      <td>NaN</td>\n",
       "      <td>1.0</td>\n",
       "      <td>Mild</td>\n",
       "    </tr>\n",
       "    <tr>\n",
       "      <th>1</th>\n",
       "      <td>@55</td>\n",
       "      <td>ass</td>\n",
       "      <td>NaN</td>\n",
       "      <td>NaN</td>\n",
       "      <td>sexual anatomy / sexual acts</td>\n",
       "      <td>NaN</td>\n",
       "      <td>NaN</td>\n",
       "      <td>1.0</td>\n",
       "      <td>Mild</td>\n",
       "    </tr>\n",
       "    <tr>\n",
       "      <th>2</th>\n",
       "      <td>@ssfcker</td>\n",
       "      <td>fuck</td>\n",
       "      <td>ass</td>\n",
       "      <td>NaN</td>\n",
       "      <td>sexual anatomy / sexual acts</td>\n",
       "      <td>sexual orientation / gender</td>\n",
       "      <td>NaN</td>\n",
       "      <td>2.8</td>\n",
       "      <td>Severe</td>\n",
       "    </tr>\n",
       "    <tr>\n",
       "      <th>3</th>\n",
       "      <td>@ssfucker</td>\n",
       "      <td>fuck</td>\n",
       "      <td>ass</td>\n",
       "      <td>NaN</td>\n",
       "      <td>sexual anatomy / sexual acts</td>\n",
       "      <td>sexual orientation / gender</td>\n",
       "      <td>NaN</td>\n",
       "      <td>2.8</td>\n",
       "      <td>Severe</td>\n",
       "    </tr>\n",
       "    <tr>\n",
       "      <th>4</th>\n",
       "      <td>@ssfvcker</td>\n",
       "      <td>fuck</td>\n",
       "      <td>ass</td>\n",
       "      <td>NaN</td>\n",
       "      <td>sexual anatomy / sexual acts</td>\n",
       "      <td>sexual orientation / gender</td>\n",
       "      <td>NaN</td>\n",
       "      <td>2.4</td>\n",
       "      <td>Strong</td>\n",
       "    </tr>\n",
       "  </tbody>\n",
       "</table>\n",
       "</div>"
      ],
      "text/plain": [
       "        text canonical_form_1 canonical_form_2 canonical_form_3  \\\n",
       "0         69               69              NaN              NaN   \n",
       "1        @55              ass              NaN              NaN   \n",
       "2   @ssfcker             fuck              ass              NaN   \n",
       "3  @ssfucker             fuck              ass              NaN   \n",
       "4  @ssfvcker             fuck              ass              NaN   \n",
       "\n",
       "                     category_1                   category_2 category_3  \\\n",
       "0  sexual anatomy / sexual acts                          NaN        NaN   \n",
       "1  sexual anatomy / sexual acts                          NaN        NaN   \n",
       "2  sexual anatomy / sexual acts  sexual orientation / gender        NaN   \n",
       "3  sexual anatomy / sexual acts  sexual orientation / gender        NaN   \n",
       "4  sexual anatomy / sexual acts  sexual orientation / gender        NaN   \n",
       "\n",
       "   severity_rating severity_description  \n",
       "0              1.0                 Mild  \n",
       "1              1.0                 Mild  \n",
       "2              2.8               Severe  \n",
       "3              2.8               Severe  \n",
       "4              2.4               Strong  "
      ]
     },
     "execution_count": 2,
     "metadata": {},
     "output_type": "execute_result"
    }
   ],
   "source": [
    "# load the text file in csv format \n",
    "df = pd.read_csv(\"slug_words.txt\")\n",
    "df.head()"
   ]
  },
  {
   "cell_type": "code",
   "execution_count": 3,
   "metadata": {},
   "outputs": [
    {
     "data": {
      "text/plain": [
       "text                    1598\n",
       "canonical_form_1        1598\n",
       "canonical_form_2        1598\n",
       "canonical_form_3        1598\n",
       "category_1              1598\n",
       "category_2              1598\n",
       "category_3              1598\n",
       "severity_rating         1598\n",
       "severity_description    1598\n",
       "dtype: int64"
      ]
     },
     "execution_count": 3,
     "metadata": {},
     "output_type": "execute_result"
    }
   ],
   "source": [
    "# check for null values \n",
    "df.isnull().count()"
   ]
  },
  {
   "cell_type": "code",
   "execution_count": 4,
   "metadata": {},
   "outputs": [
    {
     "data": {
      "text/plain": [
       "(1598, 9)"
      ]
     },
     "execution_count": 4,
     "metadata": {},
     "output_type": "execute_result"
    }
   ],
   "source": [
    "# check dimentions of file \n",
    "df.shape"
   ]
  },
  {
   "cell_type": "code",
   "execution_count": 5,
   "metadata": {},
   "outputs": [
    {
     "data": {
      "text/html": [
       "<div>\n",
       "<style scoped>\n",
       "    .dataframe tbody tr th:only-of-type {\n",
       "        vertical-align: middle;\n",
       "    }\n",
       "\n",
       "    .dataframe tbody tr th {\n",
       "        vertical-align: top;\n",
       "    }\n",
       "\n",
       "    .dataframe thead th {\n",
       "        text-align: right;\n",
       "    }\n",
       "</style>\n",
       "<table border=\"1\" class=\"dataframe\">\n",
       "  <thead>\n",
       "    <tr style=\"text-align: right;\">\n",
       "      <th></th>\n",
       "      <th>text</th>\n",
       "      <th>category_1</th>\n",
       "      <th>severity_description</th>\n",
       "    </tr>\n",
       "  </thead>\n",
       "  <tbody>\n",
       "    <tr>\n",
       "      <th>0</th>\n",
       "      <td>69</td>\n",
       "      <td>sexual anatomy / sexual acts</td>\n",
       "      <td>Mild</td>\n",
       "    </tr>\n",
       "    <tr>\n",
       "      <th>1</th>\n",
       "      <td>@55</td>\n",
       "      <td>sexual anatomy / sexual acts</td>\n",
       "      <td>Mild</td>\n",
       "    </tr>\n",
       "    <tr>\n",
       "      <th>2</th>\n",
       "      <td>@ssfcker</td>\n",
       "      <td>sexual anatomy / sexual acts</td>\n",
       "      <td>Severe</td>\n",
       "    </tr>\n",
       "    <tr>\n",
       "      <th>3</th>\n",
       "      <td>@ssfucker</td>\n",
       "      <td>sexual anatomy / sexual acts</td>\n",
       "      <td>Severe</td>\n",
       "    </tr>\n",
       "    <tr>\n",
       "      <th>4</th>\n",
       "      <td>@ssfvcker</td>\n",
       "      <td>sexual anatomy / sexual acts</td>\n",
       "      <td>Strong</td>\n",
       "    </tr>\n",
       "    <tr>\n",
       "      <th>...</th>\n",
       "      <td>...</td>\n",
       "      <td>...</td>\n",
       "      <td>...</td>\n",
       "    </tr>\n",
       "    <tr>\n",
       "      <th>1593</th>\n",
       "      <td>wnker</td>\n",
       "      <td>sexual anatomy / sexual acts</td>\n",
       "      <td>Mild</td>\n",
       "    </tr>\n",
       "    <tr>\n",
       "      <th>1594</th>\n",
       "      <td>wop</td>\n",
       "      <td>racial / ethnic slurs</td>\n",
       "      <td>Strong</td>\n",
       "    </tr>\n",
       "    <tr>\n",
       "      <th>1595</th>\n",
       "      <td>wophead</td>\n",
       "      <td>racial / ethnic slurs</td>\n",
       "      <td>Strong</td>\n",
       "    </tr>\n",
       "    <tr>\n",
       "      <th>1596</th>\n",
       "      <td>zip in the wire</td>\n",
       "      <td>racial / ethnic slurs</td>\n",
       "      <td>Mild</td>\n",
       "    </tr>\n",
       "    <tr>\n",
       "      <th>1597</th>\n",
       "      <td>zipperhead</td>\n",
       "      <td>racial / ethnic slurs</td>\n",
       "      <td>Strong</td>\n",
       "    </tr>\n",
       "  </tbody>\n",
       "</table>\n",
       "<p>1598 rows × 3 columns</p>\n",
       "</div>"
      ],
      "text/plain": [
       "                 text                    category_1 severity_description\n",
       "0                  69  sexual anatomy / sexual acts                 Mild\n",
       "1                 @55  sexual anatomy / sexual acts                 Mild\n",
       "2            @ssfcker  sexual anatomy / sexual acts               Severe\n",
       "3           @ssfucker  sexual anatomy / sexual acts               Severe\n",
       "4           @ssfvcker  sexual anatomy / sexual acts               Strong\n",
       "...               ...                           ...                  ...\n",
       "1593            wnker  sexual anatomy / sexual acts                 Mild\n",
       "1594              wop         racial / ethnic slurs               Strong\n",
       "1595          wophead         racial / ethnic slurs               Strong\n",
       "1596  zip in the wire         racial / ethnic slurs                 Mild\n",
       "1597       zipperhead         racial / ethnic slurs               Strong\n",
       "\n",
       "[1598 rows x 3 columns]"
      ]
     },
     "execution_count": 5,
     "metadata": {},
     "output_type": "execute_result"
    }
   ],
   "source": [
    "# drop unwanted columns \n",
    "df = df[['text', 'category_1', 'severity_description']]\n",
    "df"
   ]
  },
  {
   "cell_type": "code",
   "execution_count": 6,
   "metadata": {
    "scrolled": true
   },
   "outputs": [
    {
     "data": {
      "text/html": [
       "<div>\n",
       "<style scoped>\n",
       "    .dataframe tbody tr th:only-of-type {\n",
       "        vertical-align: middle;\n",
       "    }\n",
       "\n",
       "    .dataframe tbody tr th {\n",
       "        vertical-align: top;\n",
       "    }\n",
       "\n",
       "    .dataframe thead th {\n",
       "        text-align: right;\n",
       "    }\n",
       "</style>\n",
       "<table border=\"1\" class=\"dataframe\">\n",
       "  <thead>\n",
       "    <tr style=\"text-align: right;\">\n",
       "      <th></th>\n",
       "      <th>text</th>\n",
       "      <th>category_1</th>\n",
       "      <th>severity_description</th>\n",
       "    </tr>\n",
       "  </thead>\n",
       "  <tbody>\n",
       "    <tr>\n",
       "      <th>19</th>\n",
       "      <td>abbie</td>\n",
       "      <td>racial / ethnic slurs</td>\n",
       "      <td>Mild</td>\n",
       "    </tr>\n",
       "    <tr>\n",
       "      <th>20</th>\n",
       "      <td>abeed</td>\n",
       "      <td>racial / ethnic slurs</td>\n",
       "      <td>Strong</td>\n",
       "    </tr>\n",
       "    <tr>\n",
       "      <th>21</th>\n",
       "      <td>aboe</td>\n",
       "      <td>racial / ethnic slurs</td>\n",
       "      <td>Mild</td>\n",
       "    </tr>\n",
       "    <tr>\n",
       "      <th>140</th>\n",
       "      <td>bean queen</td>\n",
       "      <td>racial / ethnic slurs</td>\n",
       "      <td>Strong</td>\n",
       "    </tr>\n",
       "    <tr>\n",
       "      <th>141</th>\n",
       "      <td>beaner</td>\n",
       "      <td>racial / ethnic slurs</td>\n",
       "      <td>Severe</td>\n",
       "    </tr>\n",
       "    <tr>\n",
       "      <th>...</th>\n",
       "      <td>...</td>\n",
       "      <td>...</td>\n",
       "      <td>...</td>\n",
       "    </tr>\n",
       "    <tr>\n",
       "      <th>1589</th>\n",
       "      <td>wigger</td>\n",
       "      <td>racial / ethnic slurs</td>\n",
       "      <td>Severe</td>\n",
       "    </tr>\n",
       "    <tr>\n",
       "      <th>1594</th>\n",
       "      <td>wop</td>\n",
       "      <td>racial / ethnic slurs</td>\n",
       "      <td>Strong</td>\n",
       "    </tr>\n",
       "    <tr>\n",
       "      <th>1595</th>\n",
       "      <td>wophead</td>\n",
       "      <td>racial / ethnic slurs</td>\n",
       "      <td>Strong</td>\n",
       "    </tr>\n",
       "    <tr>\n",
       "      <th>1596</th>\n",
       "      <td>zip in the wire</td>\n",
       "      <td>racial / ethnic slurs</td>\n",
       "      <td>Mild</td>\n",
       "    </tr>\n",
       "    <tr>\n",
       "      <th>1597</th>\n",
       "      <td>zipperhead</td>\n",
       "      <td>racial / ethnic slurs</td>\n",
       "      <td>Strong</td>\n",
       "    </tr>\n",
       "  </tbody>\n",
       "</table>\n",
       "<p>192 rows × 3 columns</p>\n",
       "</div>"
      ],
      "text/plain": [
       "                 text             category_1 severity_description\n",
       "19              abbie  racial / ethnic slurs                 Mild\n",
       "20              abeed  racial / ethnic slurs               Strong\n",
       "21               aboe  racial / ethnic slurs                 Mild\n",
       "140        bean queen  racial / ethnic slurs               Strong\n",
       "141            beaner  racial / ethnic slurs               Severe\n",
       "...               ...                    ...                  ...\n",
       "1589           wigger  racial / ethnic slurs               Severe\n",
       "1594              wop  racial / ethnic slurs               Strong\n",
       "1595          wophead  racial / ethnic slurs               Strong\n",
       "1596  zip in the wire  racial / ethnic slurs                 Mild\n",
       "1597       zipperhead  racial / ethnic slurs               Strong\n",
       "\n",
       "[192 rows x 3 columns]"
      ]
     },
     "execution_count": 6,
     "metadata": {},
     "output_type": "execute_result"
    }
   ],
   "source": [
    "# now filter thoe rows which contain the \"racial\" in the category_1 as we need only those words only \n",
    "df = df[df['category_1'].str.contains(\"racial\", case=True)]\n",
    "df"
   ]
  },
  {
   "cell_type": "code",
   "execution_count": 7,
   "metadata": {
    "scrolled": true
   },
   "outputs": [
    {
     "data": {
      "text/plain": [
       "Severe    150\n",
       "Strong     35\n",
       "Mild        7\n",
       "Name: severity_description, dtype: int64"
      ]
     },
     "execution_count": 7,
     "metadata": {},
     "output_type": "execute_result"
    }
   ],
   "source": [
    "# check the count of each category(total  3)\n",
    "df.severity_description.value_counts()"
   ]
  },
  {
   "cell_type": "code",
   "execution_count": 8,
   "metadata": {},
   "outputs": [],
   "source": [
    "# Mild_list = df[df['severity_description']=='Mild']['text'].to_list()\n",
    "# Severe_list = df[df['severity_description']=='Severe']['text'].to_list()\n",
    "# Strong_list = df[df['severity_description']=='Strong']['text'].to_list()\n",
    "\n",
    "# assert sum([len(Mild_list), len(Severe_list), len(Strong_list)]) == df.shape[0]"
   ]
  },
  {
   "cell_type": "code",
   "execution_count": 9,
   "metadata": {
    "scrolled": true
   },
   "outputs": [
    {
     "data": {
      "text/html": [
       "<div>\n",
       "<style scoped>\n",
       "    .dataframe tbody tr th:only-of-type {\n",
       "        vertical-align: middle;\n",
       "    }\n",
       "\n",
       "    .dataframe tbody tr th {\n",
       "        vertical-align: top;\n",
       "    }\n",
       "\n",
       "    .dataframe thead th {\n",
       "        text-align: right;\n",
       "    }\n",
       "</style>\n",
       "<table border=\"1\" class=\"dataframe\">\n",
       "  <thead>\n",
       "    <tr style=\"text-align: right;\">\n",
       "      <th></th>\n",
       "      <th>text</th>\n",
       "      <th>category_1</th>\n",
       "      <th>severity_description</th>\n",
       "    </tr>\n",
       "  </thead>\n",
       "  <tbody>\n",
       "    <tr>\n",
       "      <th>19</th>\n",
       "      <td>abbie</td>\n",
       "      <td>racial / ethnic slurs</td>\n",
       "      <td>Mild</td>\n",
       "    </tr>\n",
       "    <tr>\n",
       "      <th>20</th>\n",
       "      <td>abeed</td>\n",
       "      <td>racial / ethnic slurs</td>\n",
       "      <td>Strong</td>\n",
       "    </tr>\n",
       "    <tr>\n",
       "      <th>21</th>\n",
       "      <td>aboe</td>\n",
       "      <td>racial / ethnic slurs</td>\n",
       "      <td>Mild</td>\n",
       "    </tr>\n",
       "    <tr>\n",
       "      <th>141</th>\n",
       "      <td>beaner</td>\n",
       "      <td>racial / ethnic slurs</td>\n",
       "      <td>Severe</td>\n",
       "    </tr>\n",
       "    <tr>\n",
       "      <th>142</th>\n",
       "      <td>beaners</td>\n",
       "      <td>racial / ethnic slurs</td>\n",
       "      <td>Severe</td>\n",
       "    </tr>\n",
       "    <tr>\n",
       "      <th>...</th>\n",
       "      <td>...</td>\n",
       "      <td>...</td>\n",
       "      <td>...</td>\n",
       "    </tr>\n",
       "    <tr>\n",
       "      <th>1579</th>\n",
       "      <td>wetbacks</td>\n",
       "      <td>racial / ethnic slurs</td>\n",
       "      <td>Severe</td>\n",
       "    </tr>\n",
       "    <tr>\n",
       "      <th>1589</th>\n",
       "      <td>wigger</td>\n",
       "      <td>racial / ethnic slurs</td>\n",
       "      <td>Severe</td>\n",
       "    </tr>\n",
       "    <tr>\n",
       "      <th>1594</th>\n",
       "      <td>wop</td>\n",
       "      <td>racial / ethnic slurs</td>\n",
       "      <td>Strong</td>\n",
       "    </tr>\n",
       "    <tr>\n",
       "      <th>1595</th>\n",
       "      <td>wophead</td>\n",
       "      <td>racial / ethnic slurs</td>\n",
       "      <td>Strong</td>\n",
       "    </tr>\n",
       "    <tr>\n",
       "      <th>1597</th>\n",
       "      <td>zipperhead</td>\n",
       "      <td>racial / ethnic slurs</td>\n",
       "      <td>Strong</td>\n",
       "    </tr>\n",
       "  </tbody>\n",
       "</table>\n",
       "<p>175 rows × 3 columns</p>\n",
       "</div>"
      ],
      "text/plain": [
       "            text             category_1 severity_description\n",
       "19         abbie  racial / ethnic slurs                 Mild\n",
       "20         abeed  racial / ethnic slurs               Strong\n",
       "21          aboe  racial / ethnic slurs                 Mild\n",
       "141       beaner  racial / ethnic slurs               Severe\n",
       "142      beaners  racial / ethnic slurs               Severe\n",
       "...          ...                    ...                  ...\n",
       "1579    wetbacks  racial / ethnic slurs               Severe\n",
       "1589      wigger  racial / ethnic slurs               Severe\n",
       "1594         wop  racial / ethnic slurs               Strong\n",
       "1595     wophead  racial / ethnic slurs               Strong\n",
       "1597  zipperhead  racial / ethnic slurs               Strong\n",
       "\n",
       "[175 rows x 3 columns]"
      ]
     },
     "execution_count": 9,
     "metadata": {},
     "output_type": "execute_result"
    }
   ],
   "source": [
    "# remove text cotnain more than one words \n",
    "df = df[~df['text'].str.contains(\" \", case = False)]\n",
    "df"
   ]
  },
  {
   "cell_type": "code",
   "execution_count": 10,
   "metadata": {
    "scrolled": true
   },
   "outputs": [
    {
     "data": {
      "text/plain": [
       "(175, 2)"
      ]
     },
     "execution_count": 10,
     "metadata": {},
     "output_type": "execute_result"
    }
   ],
   "source": [
    "# finalize the csv file ith 2 columns only \n",
    "df= df[['text', 'severity_description']]\n",
    "df.shape"
   ]
  },
  {
   "cell_type": "code",
   "execution_count": 11,
   "metadata": {},
   "outputs": [],
   "source": [
    "# export it for later use\n",
    "df.to_csv(\"racial_word.csv\", index = False)"
   ]
  },
  {
   "cell_type": "markdown",
   "metadata": {},
   "source": [
    "###  reference link: - \n",
    "https://github.com/surge-ai/profanity/blob/main/profanity_en.csv"
   ]
  }
 ],
 "metadata": {
  "kernelspec": {
   "display_name": "Python 3",
   "language": "python",
   "name": "python3"
  },
  "language_info": {
   "codemirror_mode": {
    "name": "ipython",
    "version": 3
   },
   "file_extension": ".py",
   "mimetype": "text/x-python",
   "name": "python",
   "nbconvert_exporter": "python",
   "pygments_lexer": "ipython3",
   "version": "3.8.5"
  }
 },
 "nbformat": 4,
 "nbformat_minor": 4
}
