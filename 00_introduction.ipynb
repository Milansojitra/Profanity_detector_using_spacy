{
 "cells": [
  {
   "cell_type": "markdown",
   "metadata": {},
   "source": [
    "#  Here we are try to detect the profanity with small spacy model"
   ]
  },
  {
   "cell_type": "markdown",
   "metadata": {},
   "source": [
    "## Assumption :- \n",
    "- Profanity or racial slug word will be of length 1.\n",
    "- Spelling will be correct while pass for profanity check.\n"
   ]
  },
  {
   "cell_type": "markdown",
   "metadata": {},
   "source": [
    "## Process \n",
    "- 01 : We first filter some of the words and save into one csv file \n",
    "- 02 : Set rules to detect the racial words from each sentence and than predict the level or degree of profanity.and save the model.\n",
    "     - Neutral : No racial comment or profanity\n",
    "     - Mild    : Lowest level of racial comment\n",
    "     - Strong  : Intermidiate level of racial comment\n",
    "     - Severe  : Very high level of racial comment \n",
    "- 03 : Download the new model.\n",
    "- 04 : Check profanity using new model."
   ]
  },
  {
   "cell_type": "markdown",
   "metadata": {},
   "source": []
  }
 ],
 "metadata": {
  "kernelspec": {
   "display_name": "Python 3",
   "language": "python",
   "name": "python3"
  },
  "language_info": {
   "codemirror_mode": {
    "name": "ipython",
    "version": 3
   },
   "file_extension": ".py",
   "mimetype": "text/x-python",
   "name": "python",
   "nbconvert_exporter": "python",
   "pygments_lexer": "ipython3",
   "version": "3.8.5"
  }
 },
 "nbformat": 4,
 "nbformat_minor": 4
}
