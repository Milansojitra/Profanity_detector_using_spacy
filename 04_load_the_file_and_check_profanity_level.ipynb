{
 "cells": [
  {
   "cell_type": "markdown",
   "metadata": {},
   "source": [
    "# In this notebook we first load the data and than test on it."
   ]
  },
  {
   "cell_type": "code",
   "execution_count": 1,
   "metadata": {},
   "outputs": [
    {
     "data": {
      "text/plain": [
       "'C:\\\\Users\\\\MILAN\\\\1_affinity'"
      ]
     },
     "execution_count": 1,
     "metadata": {},
     "output_type": "execute_result"
    }
   ],
   "source": [
    "pwd"
   ]
  },
  {
   "cell_type": "code",
   "execution_count": 2,
   "metadata": {},
   "outputs": [],
   "source": [
    "import spacy\n",
    "import pandas as pd\n",
    "from spacy.language import Language\n",
    "from spacy.matcher import PhraseMatcher"
   ]
  },
  {
   "cell_type": "code",
   "execution_count": 3,
   "metadata": {},
   "outputs": [
    {
     "data": {
      "text/plain": [
       "'your are such a chink.\\nthat basterd is abbie.\\nhe is suck a greaser.\\njames was a higg@.\\nthay are such a cholo.\\nshe is like jigga.\\nher father was higgers and moron.\\nyou are n1ggas.\\nhere nuggets ahhh.\\ncomman sentence 1.\\nsimple 2.\\nneutral state three.'"
      ]
     },
     "execution_count": 3,
     "metadata": {},
     "output_type": "execute_result"
    }
   ],
   "source": [
    "# open the test tweets file \n",
    "with open(\"tweets.txt\", 'r') as r:\n",
    "    test_data = r.read()\n",
    "test_data"
   ]
  },
  {
   "cell_type": "code",
   "execution_count": 4,
   "metadata": {},
   "outputs": [
    {
     "data": {
      "text/plain": [
       "'your are such a chink. that basterd is abbie. he is suck a greaser. james was a higg@. thay are such a cholo. she is like jigga. her father was higgers and moron. you are n1ggas. here nuggets ahhh. comman sentence 1. simple 2. neutral state three.'"
      ]
     },
     "execution_count": 4,
     "metadata": {},
     "output_type": "execute_result"
    }
   ],
   "source": [
    "#do some cleaning as per requirments.\n",
    "test_data = test_data.replace(\"\\n\", \" \")\n",
    "test_data"
   ]
  },
  {
   "cell_type": "markdown",
   "metadata": {},
   "source": [
    "#### Load the model"
   ]
  },
  {
   "cell_type": "code",
   "execution_count": 5,
   "metadata": {},
   "outputs": [],
   "source": [
    "nlp = spacy.load(\"en_core_web_sm\")"
   ]
  },
  {
   "cell_type": "code",
   "execution_count": 6,
   "metadata": {},
   "outputs": [
    {
     "data": {
      "text/plain": [
       "[('tok2vec', <spacy.pipeline.tok2vec.Tok2Vec at 0x246aaca9520>),\n",
       " ('tagger', <spacy.pipeline.tagger.Tagger at 0x246aaca9e80>),\n",
       " ('parser', <spacy.pipeline.dep_parser.DependencyParser at 0x246aa903dd0>),\n",
       " ('attribute_ruler',\n",
       "  <spacy.pipeline.attributeruler.AttributeRuler at 0x246aad0d640>),\n",
       " ('lemmatizer', <spacy.lang.en.lemmatizer.EnglishLemmatizer at 0x246aad0da00>),\n",
       " ('ner', <spacy.pipeline.ner.EntityRecognizer at 0x246aaadc6d0>),\n",
       " ('profanity',\n",
       "  <function en_core_web_sm.prof_component.profanity_component_function(doc)>)]"
      ]
     },
     "execution_count": 6,
     "metadata": {},
     "output_type": "execute_result"
    }
   ],
   "source": [
    "nlp.pipeline"
   ]
  },
  {
   "cell_type": "code",
   "execution_count": 13,
   "metadata": {},
   "outputs": [
    {
     "name": "stdout",
     "output_type": "stream",
     "text": [
      "                            your are such a chink.:     Severe\n",
      "                            that basterd is abbie.:       Mild\n",
      "                             he is suck a greaser.:       Mild\n",
      "         james was a higg@. thay are such a cholo.:     Strong\n",
      "                                she is like jigga.:     Strong\n",
      "                 her father was higgers and moron.:     Severe\n",
      "                                   you are n1ggas.:     Severe\n",
      "                                here nuggets ahhh.:       Mild\n",
      "                                comman sentence 1.:    Neutral\n",
      "                                         simple 2.:    Neutral\n",
      "                              neutral state three.:    Neutral\n"
     ]
    }
   ],
   "source": [
    "# Add the component to the pipeline after the \"ner\" component\n",
    "doc = nlp(test_data)\n",
    "\n",
    "for sent in doc.sents:\n",
    "    print(\"{:>50}: {:>10}\".format(sent.text,sent._.Profanity_level))"
   ]
  },
  {
   "cell_type": "markdown",
   "metadata": {},
   "source": [
    "# yoooooooo!! "
   ]
  }
 ],
 "metadata": {
  "kernelspec": {
   "display_name": "Python 3",
   "language": "python",
   "name": "python3"
  },
  "language_info": {
   "codemirror_mode": {
    "name": "ipython",
    "version": 3
   },
   "file_extension": ".py",
   "mimetype": "text/x-python",
   "name": "python",
   "nbconvert_exporter": "python",
   "pygments_lexer": "ipython3",
   "version": "3.8.5"
  }
 },
 "nbformat": 4,
 "nbformat_minor": 4
}
